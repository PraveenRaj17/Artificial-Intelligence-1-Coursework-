{
 "cells": [
  {
   "cell_type": "code",
   "execution_count": 39,
   "id": "c43fbdc7",
   "metadata": {},
   "outputs": [],
   "source": [
    "import numpy as np\n",
    "import copy\n",
    "\n",
    "a = np.array([1,0,2,4,5,7,3,8,9,6,11,12,13,10,14,15])\n",
    "ar = np.reshape(a, (4,4))\n"
   ]
  },
  {
   "cell_type": "code",
   "execution_count": 40,
   "id": "e9422361",
   "metadata": {},
   "outputs": [
    {
     "data": {
      "text/plain": [
       "array([[ 1,  0,  2,  4],\n",
       "       [ 5,  7,  3,  8],\n",
       "       [ 9,  6, 11, 12],\n",
       "       [13, 10, 14, 15]])"
      ]
     },
     "execution_count": 40,
     "metadata": {},
     "output_type": "execute_result"
    }
   ],
   "source": [
    "ar"
   ]
  },
  {
   "cell_type": "code",
   "execution_count": 8,
   "id": "21c1a187",
   "metadata": {},
   "outputs": [],
   "source": [
    "    def getIndexOfZeroInMatrix(array):\n",
    "        pos = np.where(array == 0)\n",
    "        (x,y) = pos\n",
    "        return [x,y]"
   ]
  },
  {
   "cell_type": "code",
   "execution_count": 9,
   "id": "b9765371",
   "metadata": {},
   "outputs": [
    {
     "name": "stdout",
     "output_type": "stream",
     "text": [
      "[1]\n"
     ]
    }
   ],
   "source": [
    "print(getIndexOfZeroInMatrix(ar)[0])"
   ]
  },
  {
   "cell_type": "code",
   "execution_count": 52,
   "id": "9f8f63df",
   "metadata": {},
   "outputs": [
    {
     "data": {
      "text/plain": [
       "{'R': array([[ 1,  7,  2,  4],\n",
       "        [ 5,  0,  3,  8],\n",
       "        [ 9,  6, 11, 12],\n",
       "        [13, 10, 14, 15]]),\n",
       " 'D': array([[ 1,  2,  0,  4],\n",
       "        [ 5,  7,  3,  8],\n",
       "        [ 9,  6, 11, 12],\n",
       "        [13, 10, 14, 15]]),\n",
       " 'U': array([[ 0,  1,  2,  4],\n",
       "        [ 5,  7,  3,  8],\n",
       "        [ 9,  6, 11, 12],\n",
       "        [13, 10, 14, 15]])}"
      ]
     },
     "execution_count": 52,
     "metadata": {},
     "output_type": "execute_result"
    }
   ],
   "source": [
    "class Node:\n",
    "\n",
    "    state = []\n",
    "    parent = []\n",
    "    parentAction = []\n",
    "    visited = False\n",
    "\n",
    "    def __init__(self, s):\n",
    "        self.state = s\n",
    "        self.parent = s\n",
    "    def getChildNodes(self):\n",
    "        children = {}\n",
    "        for i in range(len(self.state)):\n",
    "            for j in range(len(self.state[0])):\n",
    "                if self.state[i][j] == 0:\n",
    "#                     potential_dest = [[i-1,j],[i+1,j],[i,j-1],[i,j+1]]\n",
    "#                     for [a,b] in potential_dest:\n",
    "                    if ((i + 1) < len(self.state)):\n",
    "                        temp_arr = copy.deepcopy(self.state)\n",
    "                        temp = temp_arr[i][j]\n",
    "                        temp_arr[i][j] = temp_arr[i + 1] [j]\n",
    "                        temp_arr[i + 1][j] = temp\n",
    "                        children[\"R\"] = temp_arr\n",
    "                    if ((i - 1) >= 0):\n",
    "                        temp_arr = copy.deepcopy(self.state)\n",
    "                        temp = temp_arr[i][j]\n",
    "                        temp_arr[i][j] = temp_arr[i - 1][j]\n",
    "                        temp_arr[i - 1][j] = temp\n",
    "                        children[\"L\"] = temp_arr\n",
    "                    if ((j + 1) < len(self.state[0])):\n",
    "                        temp_arr = copy.deepcopy(self.state)\n",
    "                        temp = temp_arr[i][j]\n",
    "                        temp_arr[i][j] = temp_arr[i][j + 1]\n",
    "                        temp_arr[i][j + 1] = temp\n",
    "                        children[\"D\"] = temp_arr\n",
    "                    if( (j - 1) >= 0):\n",
    "                        temp_arr = copy.deepcopy(self.state)\n",
    "                        temp = temp_arr[i][j]\n",
    "                        temp_arr[i][j] = temp_arr[i][j - 1]\n",
    "                        temp_arr[i] [j - 1] = temp\n",
    "                        children[\"U\"] = temp_arr\n",
    "        return children\n",
    "\n",
    "n1 = Node(ar)\n",
    "n1.getChildNodes()"
   ]
  },
  {
   "cell_type": "code",
   "execution_count": 48,
   "id": "d11526eb",
   "metadata": {},
   "outputs": [
    {
     "name": "stdout",
     "output_type": "stream",
     "text": [
      "R [[ 1  7  2  4]\n",
      " [ 5  0  3  8]\n",
      " [ 9  6 11 12]\n",
      " [13 10 14 15]]\n",
      "D [[ 1  2  0  4]\n",
      " [ 5  7  3  8]\n",
      " [ 9  6 11 12]\n",
      " [13 10 14 15]]\n",
      "U [[ 0  1  2  4]\n",
      " [ 5  7  3  8]\n",
      " [ 9  6 11 12]\n",
      " [13 10 14 15]]\n"
     ]
    }
   ],
   "source": [
    "temp_arr = np.array([[1, 2, 3],[4, 5, 3]])\n",
    "temp_arr[0,0]\n",
    "for key,value in n1.getChildNodes().items():\n",
    "    print(key,value)"
   ]
  },
  {
   "cell_type": "code",
   "execution_count": 51,
   "id": "1bc51d96",
   "metadata": {},
   "outputs": [
    {
     "name": "stdout",
     "output_type": "stream",
     "text": [
      "The parent action is U\n"
     ]
    }
   ],
   "source": [
    "def getParentAction(child):\n",
    "    for key, value in n1.getChildNodes().items():\n",
    "        if np.array_equal(child,value):\n",
    "            return key\n",
    "\n",
    "child1 = np.array([[0,1,2,4],[5,7,3,8],[9,6,11,12],[13,10,14,15]])\n",
    "print(\"The parent action is \" + str(getParentAction(child1)))\n",
    "        "
   ]
  },
  {
   "cell_type": "code",
   "execution_count": null,
   "id": "e8d5cbf4",
   "metadata": {},
   "outputs": [],
   "source": []
  },
  {
   "cell_type": "code",
   "execution_count": null,
   "id": "f31ab722",
   "metadata": {},
   "outputs": [],
   "source": [
    "goal_state = np.array([1,2,3,4],[5,6,7,8],[9,10,11,12],[13,14,15,0])\n",
    "\n",
    "visited = []\n",
    "queue = []\n",
    "\n",
    "def bfs(visited, node):\n",
    "  visited.append(node)\n",
    "  queue.append(node)\n",
    "\n",
    "  while queue:\n",
    "    s = queue.pop(0) \n",
    "    if np.array_equal(s.state,goal_state):\n",
    "        return s.state\n",
    "    else:\n",
    "        node.getChildNodes()\n",
    "\n",
    "    for child in node.getChildNodes().values()\n",
    "      if child not in visited:\n",
    "        visited.append(child)\n",
    "        queue.append(child)\n",
    "        \n",
    "\n",
    "        \n"
   ]
  }
 ],
 "metadata": {
  "kernelspec": {
   "display_name": "Python 3",
   "language": "python",
   "name": "python3"
  },
  "language_info": {
   "codemirror_mode": {
    "name": "ipython",
    "version": 3
   },
   "file_extension": ".py",
   "mimetype": "text/x-python",
   "name": "python",
   "nbconvert_exporter": "python",
   "pygments_lexer": "ipython3",
   "version": "3.8.8"
  }
 },
 "nbformat": 4,
 "nbformat_minor": 5
}

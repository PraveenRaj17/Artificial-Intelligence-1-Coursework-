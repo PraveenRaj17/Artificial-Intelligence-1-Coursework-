{
 "cells": [
  {
   "cell_type": "code",
   "execution_count": 30,
   "id": "292bdc8a",
   "metadata": {},
   "outputs": [],
   "source": [
    "import math\n",
    "import time\n",
    "import os\n",
    "import sys\n",
    "from queue import LifoQueue\n",
    "import numpy as np"
   ]
  },
  {
   "cell_type": "code",
   "execution_count": 31,
   "id": "778a8f52",
   "metadata": {},
   "outputs": [],
   "source": [
    "class Puzzle:\n",
    "    def __init__(self,tiles):\n",
    "        self.size = int(math.sqrt(len(tiles))) # defining length/width of the Puzzle\n",
    "        self.tiles = tiles\n",
    "\n",
    "    # Function to get list of possible scenarios of the puzzle for each possible action\n",
    "    def get_result_of_action(self,action):\n",
    "        result_tiles = self.tiles[:]\n",
    "        empty_index = result_tiles.index('0')\n",
    "        if action=='L':\n",
    "            if empty_index%self.size>0:\n",
    "                result_tiles[empty_index-1],result_tiles[empty_index] = result_tiles[empty_index],result_tiles[empty_index-1]\n",
    "        if action=='R':\n",
    "            if empty_index%self.size<(self.size-1): \n",
    "                result_tiles[empty_index+1],result_tiles[empty_index] = result_tiles[empty_index],result_tiles[empty_index+1]\n",
    "        if action=='U':\n",
    "            if empty_index-self.size>=0:\n",
    "                result_tiles[empty_index-self.size],result_tiles[empty_index] = result_tiles[empty_index],result_tiles[empty_index-self.size]\n",
    "        if action=='D':\n",
    "            if empty_index+self.size < self.size*self.size:\n",
    "                result_tiles[empty_index+self.size],result_tiles[empty_index] = result_tiles[empty_index],result_tiles[empty_index+self.size]\n",
    "        return Puzzle(result_tiles)\n"
   ]
  },
  {
   "cell_type": "code",
   "execution_count": 32,
   "id": "a5c9c70f",
   "metadata": {},
   "outputs": [],
   "source": [
    "class Node:\n",
    "    def __init__(self,state,parent,action):\n",
    "        self.state = state\n",
    "        self.parent = parent\n",
    "        self.action = action\n",
    "\n",
    "    # __repr__ helps represent objects as a string\n",
    "    def __repr__(self):\n",
    "        return str(self.state.tiles)\n",
    "\n",
    "    # Defining the rules to compare two nodes of class type \"Node\"\n",
    "    def __eq__(self,other):\n",
    "        return self.state.tiles == other.state.tiles"
   ]
  },
  {
   "cell_type": "code",
   "execution_count": 33,
   "id": "e723979d",
   "metadata": {},
   "outputs": [],
   "source": [
    "class PriorityQueue(object):\n",
    "    \n",
    "    def __init__(self):\n",
    "        self.queue = []\n",
    "        \n",
    "    # for checking if the queue is empty\n",
    "    def isEmpty(self):\n",
    "        return len(self.queue) == 0\n",
    "    \n",
    "    # for inserting an element in the queue\n",
    "    def append(self, element):\n",
    "        self.queue.append(element)\n",
    "  \n",
    "    # for popping an element based on Priority i.e. low value of evaluation function in this case\n",
    "    def pop(self):\n",
    "            min = 0\n",
    "            for i in range(len(self.queue)):\n",
    "                if eval_function(self.queue[i]) < eval_function(self.queue[min]):\n",
    "                    min = i\n",
    "            p = self.queue[min]\n",
    "            del self.queue[min]\n",
    "            return p"
   ]
  },
  {
   "cell_type": "code",
   "execution_count": 34,
   "id": "f22fa351",
   "metadata": {},
   "outputs": [],
   "source": [
    "def get_children(parent_node):\n",
    "    children = []\n",
    "    actions = ['L','R','U','D']\n",
    "    for action in actions:\n",
    "        child_state = parent_node.state.get_result_of_action(action)\n",
    "        child_node = Node(child_state,parent_node,action)\n",
    "        children.append(child_node)\n",
    "    return children"
   ]
  },
  {
   "cell_type": "code",
   "execution_count": 35,
   "id": "fcdd5c41",
   "metadata": {},
   "outputs": [],
   "source": [
    "def find_path(node):\n",
    "    path = []\n",
    "    while(node.parent is not None):\n",
    "        path.append(node.action)\n",
    "        node = node.parent\n",
    "    path.reverse()\n",
    "    return path"
   ]
  },
  {
   "cell_type": "code",
   "execution_count": 36,
   "id": "037b2536",
   "metadata": {},
   "outputs": [],
   "source": [
    "# Calculates manhattan distance for a given node/state from the goal state\n",
    "def manhattan_distance(node):\n",
    "    s = node.state.size\n",
    "    G = np.array(goal_state)\n",
    "    G = np.reshape(G, (s,s))\n",
    "    T = np.array(node.state.tiles)\n",
    "    T = np.reshape(T, (s,s))\n",
    "    md = 0\n",
    "    for j in node.state.tiles:\n",
    "        x_val,y_val = np.where(T == j)\n",
    "        x_goal,y_goal = np.where(G == j)\n",
    "        md = abs(x_val - x_goal) + abs(y_val - y_goal) + md\n",
    "    return md\n",
    "        "
   ]
  },
  {
   "cell_type": "code",
   "execution_count": 37,
   "id": "9745daad",
   "metadata": {},
   "outputs": [],
   "source": [
    "# Function to return number of misplaced tiles in the given node/state\n",
    "def num_of_misplaced_tiles(node):\n",
    "    n = node.state.tiles\n",
    "    g = goal_state\n",
    "    nmt = 0                     # number of misplaced tiles\n",
    "    for i in range(len(g)):\n",
    "        if not n[i] == g[i]:\n",
    "            nmt = nmt + 1\n",
    "    return nmt\n",
    "        "
   ]
  },
  {
   "cell_type": "code",
   "execution_count": 38,
   "id": "e7703e12",
   "metadata": {},
   "outputs": [],
   "source": [
    "# calculates the value of evaluation function f(n) where f(n) = g(n) {or} f(n) = h(n).\n",
    "# g(n) : number of misplaced tiles\n",
    "# h(n) : manhattan distance\n",
    "def eval_function(node):\n",
    "    if(heuristic == \"Manhattan distance\"):\n",
    "        f = manhattan_distance(node)\n",
    "    elif (heuristic == \"Number of misplaced tiles\"):\n",
    "        f = num_of_misplaced_tiles(node)\n",
    "    return f"
   ]
  },
  {
   "cell_type": "code",
   "execution_count": 39,
   "id": "68e22810",
   "metadata": {},
   "outputs": [],
   "source": [
    "def a_star(root_node, goal_state):\n",
    "\n",
    "    frontier = PriorityQueue()\n",
    "    frontier.append(root_node)\n",
    "    visited = []\n",
    "    \n",
    "    while not frontier.isEmpty():\n",
    "\n",
    "        current_node = frontier.pop()\n",
    "        visited.append(current_node)\n",
    "        \n",
    "        # Check if the current node is the goal node\n",
    "        if(goal_state == current_node.state.tiles):\n",
    "            path = find_path(current_node)\n",
    "            return path,len(visited), True, max(0, sys.getsizeof(frontier)+sys.getsizeof(visited))\n",
    "        \n",
    "        children_nodes = get_children(current_node)  # Expanding a node\n",
    "        for child in children_nodes:\n",
    "            if child not in visited:\n",
    "                frontier.append(child)\n",
    "                \n",
    "    return None,None, False, None  # Executed when the goal state couldn't be found"
   ]
  },
  {
   "cell_type": "code",
   "execution_count": 43,
   "id": "7e9dedba",
   "metadata": {},
   "outputs": [
    {
     "name": "stdout",
     "output_type": "stream",
     "text": [
      "--------------Heuristic : Number of misplaced tiles -------------------\n",
      "Moves:  ['R', 'D', 'R', 'U', 'U', 'L', 'L', 'D', 'D', 'D', 'R', 'U', 'R', 'D', 'L', 'U', 'L', 'U', 'R', 'D', 'D', 'L', 'U', 'R', 'U', 'L', 'D', 'D', 'R', 'R', 'U', 'L', 'D', 'L', 'U', 'R', 'R', 'D', 'L', 'U', 'L', 'D', 'R', 'R']\n",
      "Number of expanded Nodes: 979\n",
      "Time Taken: 1.862334966659546\n",
      "Max Memory (Bytes): 8024\n",
      "\n",
      "\n",
      "--------------Heuristic : Manhattan distance -------------------\n",
      "Moves:  ['R', 'R', 'U', 'L', 'L', 'D', 'R', 'D', 'R', 'D']\n",
      "Number of expanded Nodes: 25\n",
      "Time Taken: 0.07702207565307617\n",
      "Max Memory (Bytes): 304\n",
      "\n",
      "\n"
     ]
    }
   ],
   "source": [
    "# initial = []\n",
    "# for i in range(1,17):\n",
    "#     initial.append(sys.argv[i])\n",
    "\n",
    "#initial = ['1','0','2','4','5','7','3','8','9','6','11','12','13','10','14','15']\n",
    "\n",
    "initial = ['1','3','4','8','5','0','2','6','9','10','7','11','13','14','15','12']\n",
    "\n",
    "#initial = str(input(\"initial configuration: \"))\n",
    "initial_list = initial\n",
    "root = Node(Puzzle(initial_list),None,None)\n",
    "heuristics = [\"Number of misplaced tiles\",\"Manhattan distance\"]\n",
    "goal_state = ['1','2','3','4','5','6','7','8','9','10','11','12','13','14','15','0']\n",
    "\n",
    "for i in heuristics:\n",
    "    heuristic = i\n",
    "    print(\"--------------Heuristic : \"+ heuristic +\" -------------------\")\n",
    "    start_time = time.time()\n",
    "    path, expanded_nodes,goal_reached, memory_used = a_star(root, goal_state)\n",
    "    end_time = time.time()\n",
    "    print(\"Moves: \" , path)\n",
    "    print(\"Number of expanded Nodes: \"+ str(expanded_nodes))\n",
    "    print(\"Time Taken: \" + str(end_time - start_time))\n",
    "    print(\"Max Memory (Bytes): \" +  str(memory_used))\n",
    "    print(\"\\n\")"
   ]
  },
  {
   "cell_type": "code",
   "execution_count": null,
   "id": "686dc4ff",
   "metadata": {},
   "outputs": [],
   "source": []
  }
 ],
 "metadata": {
  "kernelspec": {
   "display_name": "Python 3",
   "language": "python",
   "name": "python3"
  },
  "language_info": {
   "codemirror_mode": {
    "name": "ipython",
    "version": 3
   },
   "file_extension": ".py",
   "mimetype": "text/x-python",
   "name": "python",
   "nbconvert_exporter": "python",
   "pygments_lexer": "ipython3",
   "version": "3.8.8"
  }
 },
 "nbformat": 4,
 "nbformat_minor": 5
}

{
 "cells": [
  {
   "cell_type": "code",
   "execution_count": 62,
   "id": "cae5235f",
   "metadata": {},
   "outputs": [],
   "source": [
    "import numpy as np\n",
    "import math\n",
    "from scipy.stats import chi2"
   ]
  },
  {
   "cell_type": "code",
   "execution_count": 63,
   "id": "dd1f91b8",
   "metadata": {},
   "outputs": [
    {
     "ename": "FileNotFoundError",
     "evalue": "[Errno 2] No such file or directory: 'restaurant.csv'",
     "output_type": "error",
     "traceback": [
      "\u001b[0;31m---------------------------------------------------------------------------\u001b[0m",
      "\u001b[0;31mFileNotFoundError\u001b[0m                         Traceback (most recent call last)",
      "\u001b[0;32m<ipython-input-63-9a20269f8542>\u001b[0m in \u001b[0;36m<module>\u001b[0;34m\u001b[0m\n\u001b[0;32m----> 1\u001b[0;31m \u001b[0mfile\u001b[0m \u001b[0;34m=\u001b[0m \u001b[0mopen\u001b[0m\u001b[0;34m(\u001b[0m\u001b[0;34m\"restaurant.csv\"\u001b[0m\u001b[0;34m)\u001b[0m\u001b[0;34m\u001b[0m\u001b[0;34m\u001b[0m\u001b[0m\n\u001b[0m\u001b[1;32m      2\u001b[0m \u001b[0;32mglobal\u001b[0m \u001b[0mmatrix\u001b[0m\u001b[0;34m\u001b[0m\u001b[0;34m\u001b[0m\u001b[0m\n\u001b[1;32m      3\u001b[0m \u001b[0mmatrix\u001b[0m \u001b[0;34m=\u001b[0m \u001b[0mnp\u001b[0m\u001b[0;34m.\u001b[0m\u001b[0mloadtxt\u001b[0m\u001b[0;34m(\u001b[0m\u001b[0mfile\u001b[0m\u001b[0;34m,\u001b[0m\u001b[0mdtype\u001b[0m\u001b[0;34m=\u001b[0m\u001b[0;34m'str'\u001b[0m\u001b[0;34m,\u001b[0m\u001b[0mdelimiter\u001b[0m\u001b[0;34m=\u001b[0m\u001b[0;34m\",\"\u001b[0m\u001b[0;34m)\u001b[0m\u001b[0;34m\u001b[0m\u001b[0;34m\u001b[0m\u001b[0m\n\u001b[1;32m      4\u001b[0m \u001b[0mnr\u001b[0m\u001b[0;34m,\u001b[0m \u001b[0mnc\u001b[0m \u001b[0;34m=\u001b[0m \u001b[0mmatrix\u001b[0m\u001b[0;34m.\u001b[0m\u001b[0mshape\u001b[0m\u001b[0;34m\u001b[0m\u001b[0;34m\u001b[0m\u001b[0m\n\u001b[1;32m      5\u001b[0m \u001b[0;32mfor\u001b[0m \u001b[0mr\u001b[0m \u001b[0;32min\u001b[0m \u001b[0mrange\u001b[0m\u001b[0;34m(\u001b[0m\u001b[0;36m0\u001b[0m\u001b[0;34m,\u001b[0m\u001b[0mnr\u001b[0m\u001b[0;34m)\u001b[0m\u001b[0;34m:\u001b[0m\u001b[0;34m\u001b[0m\u001b[0;34m\u001b[0m\u001b[0m\n",
      "\u001b[0;31mFileNotFoundError\u001b[0m: [Errno 2] No such file or directory: 'restaurant.csv'"
     ]
    }
   ],
   "source": [
    "file = open(\"restaurant.csv\")\n",
    "global matrix\n",
    "matrix = np.loadtxt(file,dtype='str',delimiter=\",\")\n",
    "nr, nc = matrix.shape\n",
    "for r in range(0,nr):\n",
    "    for c in range(0,nc):\n",
    "        matrix[r,c] = matrix[r,c].strip()\n",
    "print(matrix)\n",
    "# print(max(set(list(matrix[:,4])), key = (list(matrix[:,4]).count)))"
   ]
  },
  {
   "cell_type": "code",
   "execution_count": 3,
   "id": "946769de",
   "metadata": {},
   "outputs": [],
   "source": [
    "column_attributes = {1:\"Alternate\",2:\"Bar\",3:\"Fri/Sat\",4:\"Hungry\",5:\"Patrons\",6:\"Price\",7:\"Raining\",8:\"Reservation\",9:\"Type\",10:\"Wait Estimate\"}#,11:\"Output\"}\n",
    "rows_examples = [1,2,3,4,5,6,7,8,9,10,11,12]\n",
    "n_examples = 12\n"
   ]
  },
  {
   "cell_type": "code",
   "execution_count": 4,
   "id": "13e70430",
   "metadata": {},
   "outputs": [],
   "source": [
    "class Node_example:\n",
    "        def __init__(self,example,parent_example,action):\n",
    "            self.example = example\n",
    "            self.parent_example = parent_example"
   ]
  },
  {
   "cell_type": "code",
   "execution_count": 5,
   "id": "8ff4d981",
   "metadata": {},
   "outputs": [],
   "source": [
    "def B(q):\n",
    "    if q==0 or q==1: return 0\n",
    "    return (q*(math.log2(q)) + (1-q)*math.log2(1-q)) * (-1)\n",
    "    "
   ]
  },
  {
   "cell_type": "code",
   "execution_count": 6,
   "id": "1fd962f0",
   "metadata": {},
   "outputs": [],
   "source": [
    "def Remainder(attribute,examples_matrix,p,n):\n",
    "    r=0    \n",
    "    d = np.unique(examples_matrix[:,attribute-1])\n",
    "    n_rows, n_cols = examples_matrix.shape\n",
    "    for k in d:\n",
    "        pk=0\n",
    "        nk=0\n",
    "        for i in range(0,n_rows):\n",
    "            if examples_matrix[i,-1] == 'Yes' and examples_matrix[i,attribute-1] == k:\n",
    "                pk = pk+1\n",
    "            elif examples_matrix[i,-1] == 'No' and examples_matrix[i,attribute-1] == k:\n",
    "                nk = nk+1\n",
    "#         print(pk,nk,p,n, attribute)\n",
    "        r = r + ((pk+nk)/(p+n))*B(pk/(pk+nk))\n",
    "        \n",
    "    return r"
   ]
  },
  {
   "cell_type": "code",
   "execution_count": null,
   "id": "50ba68f1",
   "metadata": {},
   "outputs": [],
   "source": [
    "def Prune():\n",
    "    "
   ]
  },
  {
   "cell_type": "code",
   "execution_count": 7,
   "id": "2aa85648",
   "metadata": {},
   "outputs": [],
   "source": [
    "def Gain(attribute,examples_matrix):\n",
    "    g=0\n",
    "    p=0\n",
    "    n=0\n",
    "    n_rows, n_cols = examples_matrix.shape\n",
    "    for i in range(0,n_rows):\n",
    "        if examples_matrix[i,-1] == 'Yes':\n",
    "            p = p+1\n",
    "        else:\n",
    "            n = n+1\n",
    "            \n",
    "    g = B(p/(p+n)) - Remainder(attribute,examples_matrix,p,n)\n",
    "    \n",
    "    return g"
   ]
  },
  {
   "cell_type": "code",
   "execution_count": 8,
   "id": "c17400cc",
   "metadata": {},
   "outputs": [],
   "source": [
    "def importance(attributes, examples_matrix):\n",
    "    gains = {}\n",
    "    for a in attributes:\n",
    "        gains[a] = Gain(a,examples_matrix)\n",
    "    \n",
    "    key_list = list(gains.keys())\n",
    "    val_list = list(gains.values())\n",
    " \n",
    "    position = val_list.index(max(gains.values()))\n",
    "    \n",
    "    return key_list[position]\n"
   ]
  },
  {
   "cell_type": "code",
   "execution_count": 38,
   "id": "ce3be3d2",
   "metadata": {},
   "outputs": [],
   "source": [
    "# print(importance(column_attributes.keys(),matrix))\n",
    "global c\n",
    "c = 1"
   ]
  },
  {
   "cell_type": "code",
   "execution_count": 59,
   "id": "d39c9a52",
   "metadata": {},
   "outputs": [],
   "source": [
    "def learn_dec_tree(examples,list_of_attributes,parent_examples, last_rem_attr,c):\n",
    "#     prev_list_attr = list_of_attributes\n",
    "#     if parent_examples is None: initial_examples = examples\n",
    "    if examples.size == 0: \n",
    "        list_of_attributes.append(last_rem_attr)        \n",
    "        c = int(c + 5)\n",
    "        print(\"-\"*c,'\\033[1m',\"Output : \" + str(max(set(list(parent_examples[:,10])), key = (list(parent_examples[:,10]).count))),'\\033[0m')\n",
    "        c = int(c - 5)\n",
    "        return 0\n",
    "    \n",
    "    elif len(set(list(examples[:,10]))) == 1:\n",
    "        list_of_attributes.append(last_rem_attr) \n",
    "        c = int(c + 5)\n",
    "        print(\"-\"*c,'\\033[1m',\"Output : \" + str(examples[0,10]),'\\033[0m')\n",
    "        c = int(c - 5)\n",
    "        return 0\n",
    "    \n",
    "    elif len(list_of_attributes) == 0:\n",
    "        list_of_attributes.append(last_rem_attr)\n",
    "        c = int(c + 5)\n",
    "        print(\"-\"*c,'\\033[1m',\"Output : \" + str(max(set(list(parent_examples[:,10])), key = (list(parent_examples[:,10]).count))),'\\033[0m')\n",
    "        c = int(c - 5)\n",
    "        return 0\n",
    "    \n",
    "    else:\n",
    "        a = importance(list_of_attributes,examples)\n",
    "        c = int(c+5)\n",
    "        print('\\033[1m' + \"-\"*c + column_attributes[a] + \":\" + '\\033[0m')\n",
    "#         print(matrix[:,a-1])\n",
    "        d = np.unique(matrix[:,a-1])\n",
    "#         print(d)\n",
    "        n_rows, n_cols = examples.shape\n",
    "    #     exs = np.empty([0],dtype='str')\n",
    "        for k in d:\n",
    "#             list_of_attributes = prev_list_attr\n",
    "            exs = np.empty((1,11), dtype='str')\n",
    "            exs = np.delete(exs, 0, 0)            \n",
    "            for i in range(0,n_rows):\n",
    "                if examples[i,a-1] == k:\n",
    "    #                 exs = np.append(exs,examples[i,:],axis=0)\n",
    "    #                 exs = np.r_[exs,[examples[i,:]]]\n",
    "    #                 exs[l,:] = (examples[i,:])\n",
    "                    exs = np.vstack((exs, examples[i,:]))\n",
    "    #         np.asarray(exs,dtype='str')\n",
    "#     ----\n",
    "            c = int(c + 5)\n",
    "#             print(c)\n",
    "            print((\"-\"*c),column_attributes[a] , \":\", k)\n",
    "#             print(\"---------------current examples----------\")\n",
    "#             print(examples)\n",
    "#             print(\"---------after split------\")\n",
    "#             print(exs)\n",
    "#             print(\"---------------------\")\n",
    "#             print(list_of_attributes)\n",
    "# ---\n",
    "#             upd_list_attr = list_of_attributes.remove(a)\n",
    "#             print(a)\n",
    "#             prev_list_attr = list_of_attributes\n",
    "            if a in list_of_attributes : list_of_attributes.remove(a)\n",
    "#             print(list_of_attributes)\n",
    "            learn_dec_tree(exs,list_of_attributes,examples,a,c)\n",
    "            c = int(c - 5)\n",
    "        dof = len(d) - 1\n",
    "        threshold = chi2.ppf(0.95, dof)\n",
    "        print(threshold)\n",
    "        list_of_attributes.append(last_rem_attr)\n",
    "#         learn_dec_tree(exs,list_of_attributes,examples)\n",
    "    c = int(c+5)"
   ]
  },
  {
   "cell_type": "code",
   "execution_count": 60,
   "id": "4b840816",
   "metadata": {},
   "outputs": [
    {
     "name": "stdout",
     "output_type": "stream",
     "text": [
      "\u001b[1m------Patrons:\u001b[0m\n",
      "----------- Patrons : Full\n",
      "\u001b[1m----------------Hungry:\u001b[0m\n",
      "--------------------- Hungry : No\n",
      "-------------------------- \u001b[1m Output : No \u001b[0m\n",
      "--------------------- Hungry : Yes\n",
      "\u001b[1m--------------------------Type:\u001b[0m\n",
      "------------------------------- Type : Burger\n",
      "------------------------------------ \u001b[1m Output : Yes \u001b[0m\n",
      "------------------------------- Type : French\n",
      "------------------------------------ \u001b[1m Output : No \u001b[0m\n",
      "------------------------------- Type : Italian\n",
      "------------------------------------ \u001b[1m Output : No \u001b[0m\n",
      "------------------------------- Type : Thai\n",
      "\u001b[1m------------------------------------Fri/Sat:\u001b[0m\n",
      "----------------------------------------- Fri/Sat : No\n",
      "---------------------------------------------- \u001b[1m Output : No \u001b[0m\n",
      "----------------------------------------- Fri/Sat : Yes\n",
      "---------------------------------------------- \u001b[1m Output : Yes \u001b[0m\n",
      "----------- Patrons : None\n",
      "---------------- \u001b[1m Output : No \u001b[0m\n",
      "----------- Patrons : Some\n",
      "---------------- \u001b[1m Output : Yes \u001b[0m\n"
     ]
    }
   ],
   "source": [
    "learn_dec_tree(matrix,list(column_attributes.keys()),None, None,c)"
   ]
  },
  {
   "cell_type": "code",
   "execution_count": null,
   "id": "c1be794a",
   "metadata": {},
   "outputs": [],
   "source": []
  }
 ],
 "metadata": {
  "kernelspec": {
   "display_name": "Python 3",
   "language": "python",
   "name": "python3"
  },
  "language_info": {
   "codemirror_mode": {
    "name": "ipython",
    "version": 3
   },
   "file_extension": ".py",
   "mimetype": "text/x-python",
   "name": "python",
   "nbconvert_exporter": "python",
   "pygments_lexer": "ipython3",
   "version": "3.8.8"
  }
 },
 "nbformat": 4,
 "nbformat_minor": 5
}
